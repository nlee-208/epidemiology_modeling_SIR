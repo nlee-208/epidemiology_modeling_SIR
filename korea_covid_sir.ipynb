{
  "nbformat": 4,
  "nbformat_minor": 0,
  "metadata": {
    "kernelspec": {
      "display_name": "Python 3",
      "language": "python",
      "name": "python3"
    },
    "language_info": {
      "codemirror_mode": {
        "name": "ipython",
        "version": 3
      },
      "file_extension": ".py",
      "mimetype": "text/x-python",
      "name": "python",
      "nbconvert_exporter": "python",
      "pygments_lexer": "ipython3",
      "version": "3.8.2"
    },
    "colab": {
      "name": "korea_covid_sir.ipynb",
      "provenance": [],
      "collapsed_sections": []
    }
  },
  "cells": [
    {
      "cell_type": "markdown",
      "metadata": {
        "id": "a9BIbn0IZMqv"
      },
      "source": [
        "### Importing Data"
      ]
    },
    {
      "cell_type": "code",
      "metadata": {
        "id": "ohs9aSskl1F2",
        "colab": {
          "base_uri": "https://localhost:8080/"
        },
        "outputId": "417f77bc-852f-4b8a-ed9f-261c87cf28ee"
      },
      "source": [
        "cd ./drive/MyDrive/"
      ],
      "execution_count": null,
      "outputs": [
        {
          "output_type": "stream",
          "text": [
            "[Errno 2] No such file or directory: './drive/MyDrive/'\n",
            "/content\n"
          ],
          "name": "stdout"
        }
      ]
    },
    {
      "cell_type": "code",
      "metadata": {
        "id": "p4et1ce0oJ4W"
      },
      "source": [
        "# from google.colab import drive\n",
        "# drive.mount('/content/drive')"
      ],
      "execution_count": null,
      "outputs": []
    },
    {
      "cell_type": "code",
      "metadata": {
        "colab": {
          "base_uri": "https://localhost:8080/",
          "height": 407
        },
        "id": "GUbWx5J-im07",
        "outputId": "528cfa49-cb26-4e92-9d94-36ea0cfd6b26"
      },
      "source": [
        "import scipy.integrate as spi\n",
        "import numpy as np\n",
        "import pylab as pl\n",
        "import pandas as pd\n",
        "import pandas as pd\n",
        "import numpy as np\n",
        "import seaborn as sb\n",
        "import os\n",
        "import tqdm\n",
        "from tqdm import tqdm_notebook\n",
        "import scipy.integrate as spi\n",
        "import matplotlib.pyplot as plt\n",
        "%matplotlib inline\n",
        "\n",
        "data = pd.read_csv('./korea_made.csv')\n",
        "data"
      ],
      "execution_count": null,
      "outputs": [
        {
          "output_type": "execute_result",
          "data": {
            "text/html": [
              "<div>\n",
              "<style scoped>\n",
              "    .dataframe tbody tr th:only-of-type {\n",
              "        vertical-align: middle;\n",
              "    }\n",
              "\n",
              "    .dataframe tbody tr th {\n",
              "        vertical-align: top;\n",
              "    }\n",
              "\n",
              "    .dataframe thead th {\n",
              "        text-align: right;\n",
              "    }\n",
              "</style>\n",
              "<table border=\"1\" class=\"dataframe\">\n",
              "  <thead>\n",
              "    <tr style=\"text-align: right;\">\n",
              "      <th></th>\n",
              "      <th>날짜</th>\n",
              "      <th>누적 확진자</th>\n",
              "      <th>누적 사망자</th>\n",
              "      <th>누적 완치자</th>\n",
              "      <th>사망자</th>\n",
              "      <th>확진자</th>\n",
              "      <th>완치자</th>\n",
              "    </tr>\n",
              "  </thead>\n",
              "  <tbody>\n",
              "    <tr>\n",
              "      <th>0</th>\n",
              "      <td>2020-02-01</td>\n",
              "      <td>12</td>\n",
              "      <td>0</td>\n",
              "      <td>0</td>\n",
              "      <td>0.0</td>\n",
              "      <td>0.0</td>\n",
              "      <td>0.0</td>\n",
              "    </tr>\n",
              "    <tr>\n",
              "      <th>1</th>\n",
              "      <td>2020-02-02</td>\n",
              "      <td>15</td>\n",
              "      <td>0</td>\n",
              "      <td>0</td>\n",
              "      <td>0.0</td>\n",
              "      <td>3.0</td>\n",
              "      <td>0.0</td>\n",
              "    </tr>\n",
              "    <tr>\n",
              "      <th>2</th>\n",
              "      <td>2020-02-03</td>\n",
              "      <td>15</td>\n",
              "      <td>0</td>\n",
              "      <td>0</td>\n",
              "      <td>0.0</td>\n",
              "      <td>0.0</td>\n",
              "      <td>0.0</td>\n",
              "    </tr>\n",
              "    <tr>\n",
              "      <th>3</th>\n",
              "      <td>2020-02-04</td>\n",
              "      <td>16</td>\n",
              "      <td>0</td>\n",
              "      <td>0</td>\n",
              "      <td>0.0</td>\n",
              "      <td>1.0</td>\n",
              "      <td>0.0</td>\n",
              "    </tr>\n",
              "    <tr>\n",
              "      <th>4</th>\n",
              "      <td>2020-02-05</td>\n",
              "      <td>19</td>\n",
              "      <td>0</td>\n",
              "      <td>0</td>\n",
              "      <td>0.0</td>\n",
              "      <td>3.0</td>\n",
              "      <td>0.0</td>\n",
              "    </tr>\n",
              "    <tr>\n",
              "      <th>...</th>\n",
              "      <td>...</td>\n",
              "      <td>...</td>\n",
              "      <td>...</td>\n",
              "      <td>...</td>\n",
              "      <td>...</td>\n",
              "      <td>...</td>\n",
              "      <td>...</td>\n",
              "    </tr>\n",
              "    <tr>\n",
              "      <th>293</th>\n",
              "      <td>2020-11-20</td>\n",
              "      <td>30017</td>\n",
              "      <td>501</td>\n",
              "      <td>26263</td>\n",
              "      <td>3.0</td>\n",
              "      <td>363.0</td>\n",
              "      <td>165.0</td>\n",
              "    </tr>\n",
              "    <tr>\n",
              "      <th>294</th>\n",
              "      <td>2020-11-21</td>\n",
              "      <td>30403</td>\n",
              "      <td>503</td>\n",
              "      <td>26365</td>\n",
              "      <td>2.0</td>\n",
              "      <td>386.0</td>\n",
              "      <td>102.0</td>\n",
              "    </tr>\n",
              "    <tr>\n",
              "      <th>295</th>\n",
              "      <td>2020-11-22</td>\n",
              "      <td>30733</td>\n",
              "      <td>505</td>\n",
              "      <td>26466</td>\n",
              "      <td>2.0</td>\n",
              "      <td>330.0</td>\n",
              "      <td>101.0</td>\n",
              "    </tr>\n",
              "    <tr>\n",
              "      <th>296</th>\n",
              "      <td>2020-11-23</td>\n",
              "      <td>31004</td>\n",
              "      <td>509</td>\n",
              "      <td>26539</td>\n",
              "      <td>4.0</td>\n",
              "      <td>271.0</td>\n",
              "      <td>73.0</td>\n",
              "    </tr>\n",
              "    <tr>\n",
              "      <th>297</th>\n",
              "      <td>2020-11-24</td>\n",
              "      <td>31353</td>\n",
              "      <td>510</td>\n",
              "      <td>26722</td>\n",
              "      <td>1.0</td>\n",
              "      <td>349.0</td>\n",
              "      <td>183.0</td>\n",
              "    </tr>\n",
              "  </tbody>\n",
              "</table>\n",
              "<p>298 rows × 7 columns</p>\n",
              "</div>"
            ],
            "text/plain": [
              "             날짜  누적 확진자  누적 사망자  누적 완치자  사망자    확진자    완치자\n",
              "0    2020-02-01      12       0       0  0.0    0.0    0.0\n",
              "1    2020-02-02      15       0       0  0.0    3.0    0.0\n",
              "2    2020-02-03      15       0       0  0.0    0.0    0.0\n",
              "3    2020-02-04      16       0       0  0.0    1.0    0.0\n",
              "4    2020-02-05      19       0       0  0.0    3.0    0.0\n",
              "..          ...     ...     ...     ...  ...    ...    ...\n",
              "293  2020-11-20   30017     501   26263  3.0  363.0  165.0\n",
              "294  2020-11-21   30403     503   26365  2.0  386.0  102.0\n",
              "295  2020-11-22   30733     505   26466  2.0  330.0  101.0\n",
              "296  2020-11-23   31004     509   26539  4.0  271.0   73.0\n",
              "297  2020-11-24   31353     510   26722  1.0  349.0  183.0\n",
              "\n",
              "[298 rows x 7 columns]"
            ]
          },
          "metadata": {
            "tags": []
          },
          "execution_count": 31
        }
      ]
    },
    {
      "cell_type": "code",
      "metadata": {
        "colab": {
          "base_uri": "https://localhost:8080/",
          "height": 198
        },
        "id": "PhYXpm9jTUSJ",
        "outputId": "294ec012-5090-49bc-e36a-d4d084761605"
      },
      "source": [
        "df = data.copy()\n",
        "df.head()"
      ],
      "execution_count": null,
      "outputs": [
        {
          "output_type": "execute_result",
          "data": {
            "text/html": [
              "<div>\n",
              "<style scoped>\n",
              "    .dataframe tbody tr th:only-of-type {\n",
              "        vertical-align: middle;\n",
              "    }\n",
              "\n",
              "    .dataframe tbody tr th {\n",
              "        vertical-align: top;\n",
              "    }\n",
              "\n",
              "    .dataframe thead th {\n",
              "        text-align: right;\n",
              "    }\n",
              "</style>\n",
              "<table border=\"1\" class=\"dataframe\">\n",
              "  <thead>\n",
              "    <tr style=\"text-align: right;\">\n",
              "      <th></th>\n",
              "      <th>날짜</th>\n",
              "      <th>누적 확진자</th>\n",
              "      <th>누적 사망자</th>\n",
              "      <th>누적 완치자</th>\n",
              "      <th>사망자</th>\n",
              "      <th>확진자</th>\n",
              "      <th>완치자</th>\n",
              "    </tr>\n",
              "  </thead>\n",
              "  <tbody>\n",
              "    <tr>\n",
              "      <th>0</th>\n",
              "      <td>2020-02-01</td>\n",
              "      <td>12</td>\n",
              "      <td>0</td>\n",
              "      <td>0</td>\n",
              "      <td>0.0</td>\n",
              "      <td>0.0</td>\n",
              "      <td>0.0</td>\n",
              "    </tr>\n",
              "    <tr>\n",
              "      <th>1</th>\n",
              "      <td>2020-02-02</td>\n",
              "      <td>15</td>\n",
              "      <td>0</td>\n",
              "      <td>0</td>\n",
              "      <td>0.0</td>\n",
              "      <td>3.0</td>\n",
              "      <td>0.0</td>\n",
              "    </tr>\n",
              "    <tr>\n",
              "      <th>2</th>\n",
              "      <td>2020-02-03</td>\n",
              "      <td>15</td>\n",
              "      <td>0</td>\n",
              "      <td>0</td>\n",
              "      <td>0.0</td>\n",
              "      <td>0.0</td>\n",
              "      <td>0.0</td>\n",
              "    </tr>\n",
              "    <tr>\n",
              "      <th>3</th>\n",
              "      <td>2020-02-04</td>\n",
              "      <td>16</td>\n",
              "      <td>0</td>\n",
              "      <td>0</td>\n",
              "      <td>0.0</td>\n",
              "      <td>1.0</td>\n",
              "      <td>0.0</td>\n",
              "    </tr>\n",
              "    <tr>\n",
              "      <th>4</th>\n",
              "      <td>2020-02-05</td>\n",
              "      <td>19</td>\n",
              "      <td>0</td>\n",
              "      <td>0</td>\n",
              "      <td>0.0</td>\n",
              "      <td>3.0</td>\n",
              "      <td>0.0</td>\n",
              "    </tr>\n",
              "  </tbody>\n",
              "</table>\n",
              "</div>"
            ],
            "text/plain": [
              "           날짜  누적 확진자  누적 사망자  누적 완치자  사망자  확진자  완치자\n",
              "0  2020-02-01      12       0       0  0.0  0.0  0.0\n",
              "1  2020-02-02      15       0       0  0.0  3.0  0.0\n",
              "2  2020-02-03      15       0       0  0.0  0.0  0.0\n",
              "3  2020-02-04      16       0       0  0.0  1.0  0.0\n",
              "4  2020-02-05      19       0       0  0.0  3.0  0.0"
            ]
          },
          "metadata": {
            "tags": []
          },
          "execution_count": 39
        }
      ]
    },
    {
      "cell_type": "code",
      "metadata": {
        "colab": {
          "base_uri": "https://localhost:8080/"
        },
        "id": "rKD2FqUaBE2h",
        "outputId": "fcab1091-e5bd-4c71-d10f-ed658b34edb1"
      },
      "source": [
        "# df = data[data['누적 확진자']>30]\n",
        "# df = df.reset_index()\n",
        "# print(df.shape)\n",
        "# df = df.drop('index', axis = 1)\n",
        "# df.head()"
      ],
      "execution_count": null,
      "outputs": [
        {
          "output_type": "stream",
          "text": [
            "(281, 8)\n"
          ],
          "name": "stdout"
        }
      ]
    },
    {
      "cell_type": "code",
      "metadata": {
        "colab": {
          "base_uri": "https://localhost:8080/"
        },
        "id": "UeIGsu1LRE5r",
        "outputId": "d1097cb7-90f5-4b37-d2f9-7f19cfd908e8"
      },
      "source": [
        "ytrue = df.iloc[:15,5].array\n",
        "ytrue # 향후 setting에 인지하고 반영"
      ],
      "execution_count": null,
      "outputs": [
        {
          "output_type": "execute_result",
          "data": {
            "text/plain": [
              "<PandasArray>\n",
              "[  1.0,  20.0,  53.0, 100.0, 229.0, 169.0, 231.0, 144.0, 284.0, 505.0, 571.0,\n",
              " 813.0, 586.0, 476.0, 600.0]\n",
              "Length: 15, dtype: float64"
            ]
          },
          "metadata": {
            "tags": []
          },
          "execution_count": 11
        }
      ]
    },
    {
      "cell_type": "markdown",
      "metadata": {
        "id": "q7MxS3czoUD-"
      },
      "source": [
        "## Approximating Beta"
      ]
    },
    {
      "cell_type": "code",
      "metadata": {
        "colab": {
          "base_uri": "https://localhost:8080/"
        },
        "id": "2EWiO8caAH2q",
        "outputId": "ea4b4308-081f-4353-c89f-fdd0a00b020e"
      },
      "source": [
        "# beta =  np.linspace(0,1,1000) 후에 grid approx 파트\n",
        "beta = 0.16\n",
        "\n",
        "# given_setting\n",
        "k = 1/4\n",
        "alpha = 1/4\n",
        "gamma =  1/14 # I ->R 회복율 = 평균 회복기간의 역수\n",
        "t = np.arange(1, 16)\n",
        "\n",
        "# 2/18 31번확진자 나온날 기준으로 초기 SIR 모델 만듦.\n",
        "S0  = 51839408-31-1 ;I0  = 31; R0 = 1\n",
        "N = S0 + I0 + R0\n",
        "\n",
        "S0/= N\n",
        "I0/= N\n",
        "R0/= N\n",
        "\n",
        "Input = (S0, I0, R0)\n",
        "Input"
      ],
      "execution_count": null,
      "outputs": [
        {
          "output_type": "execute_result",
          "data": {
            "text/plain": [
              "(0.999999382709, 5.98000656180333e-07, 1.9290343747752675e-08)"
            ]
          },
          "metadata": {
            "tags": []
          },
          "execution_count": 34
        }
      ]
    },
    {
      "cell_type": "code",
      "metadata": {
        "id": "EqqUsp6lim09"
      },
      "source": [
        "# Defining SIR\n",
        "# The SIR Model\n",
        "def SIR(INT, t):\n",
        "    '''The main set of equation'''\n",
        "    Y=np.zeros((3))\n",
        "    X = INT    #  S0,   I0 \n",
        "    Y[0] = -beta*X[0]*X[1]\n",
        "    Y[1] = beta*X[0]*X[1] - gamma*X[1]\n",
        "    Y[2] = gamma*X[1]\n",
        "    return Y # for spicy.odeint\n"
      ],
      "execution_count": null,
      "outputs": []
    },
    {
      "cell_type": "code",
      "metadata": {
        "id": "iRhen6dOTqeH"
      },
      "source": [
        "# 2.18~3.3\n",
        "t = np.arange(1, 16)\n",
        "ytrue = df.iloc[0:15,5].array\n",
        "beta = 0\n",
        "SIR_samp_0= spi.odeint(SIR, Input, t)\n",
        "y_hat = SIR_samp_0[:,1]*N\n",
        "sq_0 = sum((ytrue - y_hat)**2)\n",
        "\n",
        "#initial setting \n",
        "min_sq = sq_0\n",
        "beta_lse = 0\n",
        "\n",
        "# finding lse approximation utilizing grid approximation\n",
        "for b in np.linspace(0,1,1000):\n",
        "  beta = b\n",
        "  SIR_samp= spi.odeint(SIR, Input, t)\n",
        "  y_hat = SIR_samp[:,1]*N\n",
        "  sq = sum((ytrue - y_hat)**2)\n",
        "  if (sq < min_sq):\n",
        "    min_sq = sq_0\n",
        "    beta_lse = beta\n",
        "print('Beta hat : %.3f' %(beta_lse))\n",
        "print('R : %.3f' %(beta_lse*14))\n",
        "print('Minimum SS : %.3f' %(min_sq))"
      ],
      "execution_count": null,
      "outputs": []
    },
    {
      "cell_type": "markdown",
      "metadata": {
        "id": "qh4j8QDmVVGP"
      },
      "source": [
        "### 월별 day start end\n",
        "- 2월 : 1 ~ 28\n",
        "- 3월 : 29 ~ 60\n",
        "- 4월 : 61 ~ 90\n",
        "- 5월 : 91 ~ 121\n",
        "- 6월 : 122 ~ 151\n",
        "- 7월 : 152 ~ 182\n",
        "- 8월 : 183 ~ 213\n",
        "- 9월 : 214 ~ 243\n",
        "- 10월 : 244 ~ 274\n",
        "- 11월 : 275 ~ 298  (11.24까지)\n",
        "\n"
      ]
    },
    {
      "cell_type": "code",
      "metadata": {
        "colab": {
          "base_uri": "https://localhost:8080/",
          "height": 78
        },
        "id": "rHvjPPOBTvcw",
        "outputId": "83a78350-9f20-4c45-cd79-e635e25e2e3c"
      },
      "source": [
        "df[df['날짜'] == '2020-11-01']"
      ],
      "execution_count": null,
      "outputs": [
        {
          "output_type": "execute_result",
          "data": {
            "text/html": [
              "<div>\n",
              "<style scoped>\n",
              "    .dataframe tbody tr th:only-of-type {\n",
              "        vertical-align: middle;\n",
              "    }\n",
              "\n",
              "    .dataframe tbody tr th {\n",
              "        vertical-align: top;\n",
              "    }\n",
              "\n",
              "    .dataframe thead th {\n",
              "        text-align: right;\n",
              "    }\n",
              "</style>\n",
              "<table border=\"1\" class=\"dataframe\">\n",
              "  <thead>\n",
              "    <tr style=\"text-align: right;\">\n",
              "      <th></th>\n",
              "      <th>날짜</th>\n",
              "      <th>누적 확진자</th>\n",
              "      <th>누적 사망자</th>\n",
              "      <th>누적 완치자</th>\n",
              "      <th>사망자</th>\n",
              "      <th>확진자</th>\n",
              "      <th>완치자</th>\n",
              "    </tr>\n",
              "  </thead>\n",
              "  <tbody>\n",
              "    <tr>\n",
              "      <th>274</th>\n",
              "      <td>2020-11-01</td>\n",
              "      <td>26635</td>\n",
              "      <td>466</td>\n",
              "      <td>24357</td>\n",
              "      <td>2.0</td>\n",
              "      <td>124.0</td>\n",
              "      <td>46.0</td>\n",
              "    </tr>\n",
              "  </tbody>\n",
              "</table>\n",
              "</div>"
            ],
            "text/plain": [
              "             날짜  누적 확진자  누적 사망자  누적 완치자  사망자    확진자   완치자\n",
              "274  2020-11-01   26635     466   24357  2.0  124.0  46.0"
            ]
          },
          "metadata": {
            "tags": []
          },
          "execution_count": 50
        }
      ]
    },
    {
      "cell_type": "code",
      "metadata": {
        "colab": {
          "base_uri": "https://localhost:8080/"
        },
        "id": "QMV8pm5P7sem",
        "outputId": "048ccd75-2018-4def-aac0-6fe8cffcf016"
      },
      "source": [
        "# 2.1~3.1\n",
        "t = np.arange(1, 31)\n",
        "ytrue = df.iloc[0:30,5].array\n",
        "beta = 0\n",
        "SIR_samp_0= spi.odeint(SIR, Input, t)\n",
        "y_hat = SIR_samp_0[:,1]*N\n",
        "sq_0 = sum((ytrue - y_hat)**2)\n",
        "\n",
        "#initial setting \n",
        "min_sq = sq_0\n",
        "beta_lse = 0\n",
        "\n",
        "# for loop\n",
        "for b in np.linspace(0,1,1000):\n",
        "  beta = b\n",
        "  SIR_samp= spi.odeint(SIR, Input, t)\n",
        "  y_hat = SIR_samp[:,1]*N\n",
        "  sq = sum((ytrue - y_hat)**2)\n",
        "  if (sq < min_sq):\n",
        "    min_sq = sq_0\n",
        "    beta_lse = beta\n",
        "print('Beta hat : %.3f' %(beta_lse))\n",
        "print('R : %.3f' %(beta_lse*14))\n",
        "print('Minimum SS : %.3f' %(min_sq))"
      ],
      "execution_count": null,
      "outputs": [
        {
          "output_type": "stream",
          "text": [
            "Beta hat : 0.196\n",
            "R : 0.785\n",
            "Minimum SS : 1803471.685\n"
          ],
          "name": "stdout"
        }
      ]
    },
    {
      "cell_type": "code",
      "metadata": {
        "colab": {
          "base_uri": "https://localhost:8080/"
        },
        "id": "mry89IiRRkee",
        "outputId": "d70d8a8a-bf27-44ab-d106-f168b00cec32"
      },
      "source": [
        "# 2.18~10:17\n",
        "t = np.arange(1, 241)\n",
        "ytrue = df.iloc[0:240,5].array\n",
        "beta = 0\n",
        "SIR_samp_0= spi.odeint(SIR, Input, t)\n",
        "y_hat = SIR_samp_0[:,1]*N\n",
        "sq_0 = sum((ytrue - y_hat)**2)\n",
        "\n",
        "#initial setting \n",
        "min_sq = sq_0\n",
        "beta_lse = 0\n",
        "\n",
        "# for loop\n",
        "for b in np.linspace(0,1,1000):\n",
        "  beta = b\n",
        "  SIR_samp= spi.odeint(SIR, Input, t)\n",
        "  y_hat = SIR_samp[:,1]*N\n",
        "  sq = sum((ytrue - y_hat)**2)\n",
        "  if (sq < min_sq):\n",
        "    min_sq = sq_0\n",
        "    beta_lse = beta\n",
        "print('Beta hat : %.3f' %(beta_lse))\n",
        "print('R : %.3f' %(beta_lse*4))\n",
        "print('Minimum SS : %.3f' %(min_sq))"
      ],
      "execution_count": null,
      "outputs": [
        {
          "output_type": "stream",
          "text": [
            "Beta hat : 0.081\n",
            "R : 0.324\n",
            "Minimum SS : 6168473.454\n"
          ],
          "name": "stdout"
        }
      ]
    },
    {
      "cell_type": "markdown",
      "metadata": {
        "id": "ByDA1d82R2Va"
      },
      "source": [
        "## Visualization"
      ]
    },
    {
      "cell_type": "code",
      "metadata": {
        "colab": {
          "base_uri": "https://localhost:8080/",
          "height": 483
        },
        "id": "GsQ6MtoBim0-",
        "outputId": "31f88d56-6054-40ff-b914-0c615b724f96"
      },
      "source": [
        "beta = 0.11 # 0.11 까지는 하향 곡선 제대로 안그려짐\n",
        "SIR_ = spi.odeint(SIR, Input, np.arange(1, 241))\n",
        "\n",
        "fig, ax = plt.subplots()\n",
        "fig.set_size_inches((15,8))\n",
        "ax.plot(SIR_[:, 0], '-g', label='Susceptibles')\n",
        "ax.plot(SIR_[:, 1], '-b', label='Infectious')\n",
        "ax.plot(SIR_[:, 2], '--r', label = 'Recovered')\n",
        "plt.legend()\n",
        "plt.show()"
      ],
      "execution_count": null,
      "outputs": [
        {
          "output_type": "display_data",
          "data": {
            "image/png": "[encoded data removed]",
            "text/plain": [
              "<Figure size 1080x576 with 1 Axes>"
            ]
          },
          "metadata": {
            "tags": [],
            "needs_background": "light"
          }
        }
      ]
    },
    {
      "cell_type": "code",
      "metadata": {
        "colab": {
          "base_uri": "https://localhost:8080/",
          "height": 1000
        },
        "id": "VqllIVqBWelP",
        "outputId": "57e48b45-7831-46b4-9540-681859413a31"
      },
      "source": [
        "for b in [0.1, 0.2, 0.3, 0.4]:\n",
        "  beta = b # 0.11 까지는 하향 곡선 제대로 안그려짐\n",
        "  SIR_ = spi.odeint(SIR, Input, np.arange(1, 241))\n",
        "\n",
        "  fig, ax = plt.subplots()\n",
        "  fig.set_size_inches((10, 6))\n",
        "  ax.plot(SIR_[:, 0], '-g', label='Susceptibles')\n",
        "  ax.plot(SIR_[:, 1], '-b', label='Infectious')\n",
        "  ax.plot(SIR_[:, 2], '--r', label = 'Recovered')\n",
        "  plt.legend()\n",
        "  plt.show()"
      ],
      "execution_count": null,
      "outputs": [
        {
          "output_type": "display_data",
          "data": {
            "image/png": "[encoded data removed]",
            "text/plain": [
              "<Figure size 720x432 with 1 Axes>"
            ]
          },
          "metadata": {
            "tags": [],
            "needs_background": "light"
          }
        },
        {
          "output_type": "display_data",
          "data": {
            "image/png": "[encoded data removed]",
            "text/plain": [
              "<Figure size 720x432 with 1 Axes>"
            ]
          },
          "metadata": {
            "tags": [],
            "needs_background": "light"
          }
        },
        {
          "output_type": "display_data",
          "data": {
            "image/png": "[encoded data removed]",
            "text/plain": [
              "<Figure size 720x432 with 1 Axes>"
            ]
          },
          "metadata": {
            "tags": [],
            "needs_background": "light"
          }
        },
        {
          "output_type": "display_data",
          "data": {
            "image/png": "[encoded data removed]",
            "text/plain": [
              "<Figure size 720x432 with 1 Axes>"
            ]
          },
          "metadata": {
            "tags": [],
            "needs_background": "light"
          }
        }
      ]
    },
    {
      "cell_type": "markdown",
      "metadata": {
        "id": "lMmj1aF1XYFi"
      },
      "source": [
        "## Various Cases\n",
        "1) 8월중순 대규모 감염 직전..."
      ]
    },
    {
      "cell_type": "code",
      "metadata": {
        "colab": {
          "base_uri": "https://localhost:8080/",
          "height": 407
        },
        "id": "FnXU8qZDim0-",
        "outputId": "a589d0cd-630c-404f-b44f-6d5671fd1c64"
      },
      "source": [
        "df[df['날짜'] >= '2020-07-15']\n",
        "# start day, end day 계산 방법 => index + 1\n",
        "# t = np.arange(start day,end day + 1)\n",
        "# ytrue = df.iloc[start day -1 : end day ,5].array\n"
      ],
      "execution_count": null,
      "outputs": [
        {
          "output_type": "execute_result",
          "data": {
            "text/html": [
              "<div>\n",
              "<style scoped>\n",
              "    .dataframe tbody tr th:only-of-type {\n",
              "        vertical-align: middle;\n",
              "    }\n",
              "\n",
              "    .dataframe tbody tr th {\n",
              "        vertical-align: top;\n",
              "    }\n",
              "\n",
              "    .dataframe thead th {\n",
              "        text-align: right;\n",
              "    }\n",
              "</style>\n",
              "<table border=\"1\" class=\"dataframe\">\n",
              "  <thead>\n",
              "    <tr style=\"text-align: right;\">\n",
              "      <th></th>\n",
              "      <th>날짜</th>\n",
              "      <th>누적 확진자</th>\n",
              "      <th>누적 사망자</th>\n",
              "      <th>누적 완치자</th>\n",
              "      <th>사망자</th>\n",
              "      <th>확진자</th>\n",
              "      <th>완치자</th>\n",
              "    </tr>\n",
              "  </thead>\n",
              "  <tbody>\n",
              "    <tr>\n",
              "      <th>148</th>\n",
              "      <td>2020-07-15</td>\n",
              "      <td>13551</td>\n",
              "      <td>289</td>\n",
              "      <td>12348</td>\n",
              "      <td>0.0</td>\n",
              "      <td>39.0</td>\n",
              "      <td>66.0</td>\n",
              "    </tr>\n",
              "    <tr>\n",
              "      <th>149</th>\n",
              "      <td>2020-07-16</td>\n",
              "      <td>13612</td>\n",
              "      <td>291</td>\n",
              "      <td>12396</td>\n",
              "      <td>2.0</td>\n",
              "      <td>61.0</td>\n",
              "      <td>48.0</td>\n",
              "    </tr>\n",
              "    <tr>\n",
              "      <th>150</th>\n",
              "      <td>2020-07-17</td>\n",
              "      <td>13672</td>\n",
              "      <td>293</td>\n",
              "      <td>12460</td>\n",
              "      <td>2.0</td>\n",
              "      <td>60.0</td>\n",
              "      <td>64.0</td>\n",
              "    </tr>\n",
              "    <tr>\n",
              "      <th>151</th>\n",
              "      <td>2020-07-18</td>\n",
              "      <td>13711</td>\n",
              "      <td>294</td>\n",
              "      <td>12519</td>\n",
              "      <td>1.0</td>\n",
              "      <td>39.0</td>\n",
              "      <td>59.0</td>\n",
              "    </tr>\n",
              "    <tr>\n",
              "      <th>152</th>\n",
              "      <td>2020-07-19</td>\n",
              "      <td>13745</td>\n",
              "      <td>295</td>\n",
              "      <td>12556</td>\n",
              "      <td>1.0</td>\n",
              "      <td>34.0</td>\n",
              "      <td>37.0</td>\n",
              "    </tr>\n",
              "    <tr>\n",
              "      <th>...</th>\n",
              "      <td>...</td>\n",
              "      <td>...</td>\n",
              "      <td>...</td>\n",
              "      <td>...</td>\n",
              "      <td>...</td>\n",
              "      <td>...</td>\n",
              "      <td>...</td>\n",
              "    </tr>\n",
              "    <tr>\n",
              "      <th>235</th>\n",
              "      <td>2020-10-10</td>\n",
              "      <td>24548</td>\n",
              "      <td>430</td>\n",
              "      <td>22624</td>\n",
              "      <td>2.0</td>\n",
              "      <td>72.0</td>\n",
              "      <td>55.0</td>\n",
              "    </tr>\n",
              "    <tr>\n",
              "      <th>236</th>\n",
              "      <td>2020-10-11</td>\n",
              "      <td>24606</td>\n",
              "      <td>432</td>\n",
              "      <td>22693</td>\n",
              "      <td>2.0</td>\n",
              "      <td>58.0</td>\n",
              "      <td>69.0</td>\n",
              "    </tr>\n",
              "    <tr>\n",
              "      <th>237</th>\n",
              "      <td>2020-10-12</td>\n",
              "      <td>24703</td>\n",
              "      <td>433</td>\n",
              "      <td>22728</td>\n",
              "      <td>1.0</td>\n",
              "      <td>97.0</td>\n",
              "      <td>35.0</td>\n",
              "    </tr>\n",
              "    <tr>\n",
              "      <th>238</th>\n",
              "      <td>2020-10-13</td>\n",
              "      <td>24805</td>\n",
              "      <td>434</td>\n",
              "      <td>22863</td>\n",
              "      <td>1.0</td>\n",
              "      <td>102.0</td>\n",
              "      <td>135.0</td>\n",
              "    </tr>\n",
              "    <tr>\n",
              "      <th>239</th>\n",
              "      <td>2020-10-14</td>\n",
              "      <td>24889</td>\n",
              "      <td>438</td>\n",
              "      <td>23030</td>\n",
              "      <td>4.0</td>\n",
              "      <td>84.0</td>\n",
              "      <td>167.0</td>\n",
              "    </tr>\n",
              "  </tbody>\n",
              "</table>\n",
              "<p>92 rows × 7 columns</p>\n",
              "</div>"
            ],
            "text/plain": [
              "             날짜  누적 확진자  누적 사망자  누적 완치자  사망자    확진자    완치자\n",
              "148  2020-07-15   13551     289   12348  0.0   39.0   66.0\n",
              "149  2020-07-16   13612     291   12396  2.0   61.0   48.0\n",
              "150  2020-07-17   13672     293   12460  2.0   60.0   64.0\n",
              "151  2020-07-18   13711     294   12519  1.0   39.0   59.0\n",
              "152  2020-07-19   13745     295   12556  1.0   34.0   37.0\n",
              "..          ...     ...     ...     ...  ...    ...    ...\n",
              "235  2020-10-10   24548     430   22624  2.0   72.0   55.0\n",
              "236  2020-10-11   24606     432   22693  2.0   58.0   69.0\n",
              "237  2020-10-12   24703     433   22728  1.0   97.0   35.0\n",
              "238  2020-10-13   24805     434   22863  1.0  102.0  135.0\n",
              "239  2020-10-14   24889     438   23030  4.0   84.0  167.0\n",
              "\n",
              "[92 rows x 7 columns]"
            ]
          },
          "metadata": {
            "tags": []
          },
          "execution_count": 19
        }
      ]
    },
    {
      "cell_type": "code",
      "metadata": {
        "colab": {
          "base_uri": "https://localhost:8080/"
        },
        "id": "iRLNhLMTim0-",
        "outputId": "29e48161-770c-4b28-b85f-357b4aab371f"
      },
      "source": [
        "# 7.15~8.15 => index+1 => 149 ~ 180\n",
        "t = np.arange(149, 181)\n",
        "ytrue = df.iloc[148:180,5].array\n",
        "beta = 0\n",
        "SIR_samp_0= spi.odeint(SIR, Input, t)\n",
        "y_hat = SIR_samp_0[:,1]*N\n",
        "sq_0 = sum((ytrue - y_hat)**2)\n",
        "\n",
        "#initial setting \n",
        "min_sq = sq_0\n",
        "beta_lse = 0\n",
        "\n",
        "# for loop\n",
        "for b in np.linspace(0,1,1000):\n",
        "  beta = b\n",
        "  SIR_samp= spi.odeint(SIR, Input, t)\n",
        "  y_hat = SIR_samp[:,1]*N\n",
        "  sq = sum((ytrue - y_hat)**2)\n",
        "  if (sq < min_sq):\n",
        "    min_sq = sq_0\n",
        "    beta_lse = beta\n",
        "print('Beta hat : %.3f' %(beta_lse))\n",
        "print('R : %.3f' %(beta_lse*14))\n",
        "print('Minimum SS : %.3f' %(min_sq))"
      ],
      "execution_count": null,
      "outputs": [
        {
          "output_type": "stream",
          "text": [
            "Beta hat : 0.121\n",
            "R : 0.484\n",
            "Minimum SS : 70790.602\n"
          ],
          "name": "stdout"
        }
      ]
    },
    {
      "cell_type": "code",
      "metadata": {
        "colab": {
          "base_uri": "https://localhost:8080/",
          "height": 483
        },
        "id": "SbCPxnVzim0-",
        "outputId": "d36281dc-f076-4e92-b7a7-93cae659f858"
      },
      "source": [
        "beta = 0.121 # 0.11 까지는 하향 곡선 제대로 안그려짐 (8개월 기준...)\n",
        "SIR_ = spi.odeint(SIR, Input, np.arange(1, 241))\n",
        "\n",
        "fig, ax = plt.subplots()\n",
        "fig.set_size_inches((15,8))\n",
        "ax.plot(SIR_[:, 0], '-g', label='Susceptibles')\n",
        "ax.plot(SIR_[:, 1], '-b', label='Infectious')\n",
        "ax.plot(SIR_[:, 2], '--r', label = 'Recovered')\n",
        "plt.legend()\n",
        "plt.show()"
      ],
      "execution_count": null,
      "outputs": [
        {
          "output_type": "display_data",
          "data": {
            "image/png": "[encoded data removed]",
            "text/plain": [
              "<Figure size 1080x576 with 1 Axes>"
            ]
          },
          "metadata": {
            "tags": [],
            "needs_background": "light"
          }
        }
      ]
    },
    {
      "cell_type": "markdown",
      "metadata": {
        "id": "Zaj0fEhvpAxc"
      },
      "source": [
        "### 전파율 추정 기간 설정 위해서 여러가지 기간 시도"
      ]
    },
    {
      "cell_type": "code",
      "metadata": {
        "colab": {
          "base_uri": "https://localhost:8080/"
        },
        "id": "ONFvKkedaWSF",
        "outputId": "f2d6358f-fc87-403b-dc9d-5080d8e923b2"
      },
      "source": [
        "# 2.18~8.15\n",
        "t = np.arange(1, 181)\n",
        "ytrue = df.iloc[0:180,5].array\n",
        "beta = 0\n",
        "SIR_samp_0= spi.odeint(SIR, Input, t)\n",
        "y_hat = SIR_samp_0[:,1]*N\n",
        "sq_0 = sum((ytrue - y_hat)**2)\n",
        "\n",
        "#initial setting \n",
        "min_sq = sq_0\n",
        "beta_lse = 0\n",
        "\n",
        "# for loop\n",
        "for b in np.linspace(0,1,1000):\n",
        "  beta = b\n",
        "  SIR_samp= spi.odeint(SIR, Input, t)\n",
        "  y_hat = SIR_samp[:,1]*N\n",
        "  sq = sum((ytrue - y_hat)**2)\n",
        "  if (sq < min_sq):\n",
        "    min_sq = sq_0\n",
        "    beta_lse = beta\n",
        "print('Beta hat : %.3f' %(beta_lse))\n",
        "print('R : %.3f' %(beta_lse*4))\n",
        "print('Minimum SS : %.3f' %(min_sq))\n",
        "\n",
        "#생각보다 차이 별로 안나는건가...?"
      ],
      "execution_count": null,
      "outputs": [
        {
          "output_type": "stream",
          "text": [
            "Beta hat : 0.081\n",
            "R : 0.324\n",
            "Minimum SS : 3943852.353\n"
          ],
          "name": "stdout"
        }
      ]
    },
    {
      "cell_type": "code",
      "metadata": {
        "colab": {
          "base_uri": "https://localhost:8080/"
        },
        "id": "Jb7WMO3gah-D",
        "outputId": "6d36278d-32dc-4ca7-cf52-e1135f2636b9"
      },
      "source": [
        "# 8.15~9.15\n",
        "t = np.arange(181, 212)\n",
        "ytrue = df.iloc[180:211,5].array\n",
        "beta = 0\n",
        "SIR_samp_0= spi.odeint(SIR, Input, t)\n",
        "y_hat = SIR_samp_0[:,1]*N\n",
        "sq_0 = sum((ytrue - y_hat)**2)\n",
        "\n",
        "#initial setting \n",
        "min_sq = sq_0\n",
        "beta_lse = 0\n",
        "\n",
        "# for loop\n",
        "for b in np.linspace(0,1,1000):\n",
        "  beta = b\n",
        "  SIR_samp= spi.odeint(SIR, Input, t)\n",
        "  y_hat = SIR_samp[:,1]*N\n",
        "  sq = sum((ytrue - y_hat)**2)\n",
        "  if (sq < min_sq):\n",
        "    min_sq = sq_0\n",
        "    beta_lse = beta\n",
        "print('Beta hat : %.3f' %(beta_lse))\n",
        "print('R : %.3f' %(beta_lse*14))\n",
        "print('Minimum SS : %.3f' %(min_sq))\n",
        "\n",
        "#생각보다 미세한 차이"
      ],
      "execution_count": null,
      "outputs": [
        {
          "output_type": "stream",
          "text": [
            "Beta hat : 0.168\n",
            "R : 0.673\n",
            "Minimum SS : 1780345.198\n"
          ],
          "name": "stdout"
        }
      ]
    },
    {
      "cell_type": "code",
      "metadata": {
        "colab": {
          "base_uri": "https://localhost:8080/"
        },
        "id": "uyf290fXim0-",
        "outputId": "5f5590c3-4cb7-4ee5-9e01-b74cc53b036a"
      },
      "source": [
        "# 5.05~8.15\n",
        "t = np.arange(79, 181)\n",
        "ytrue = df.iloc[78:180,5].array\n",
        "beta = 0\n",
        "SIR_samp_0= spi.odeint(SIR, Input, t)\n",
        "y_hat = SIR_samp_0[:,1]*N\n",
        "sq_0 = sum((ytrue - y_hat)**2)\n",
        "\n",
        "#initial setting \n",
        "min_sq = sq_0\n",
        "beta_lse = 0\n",
        "\n",
        "# for loop\n",
        "for b in np.linspace(0,1,1000):\n",
        "  beta = b\n",
        "  SIR_samp= spi.odeint(SIR, Input, t)\n",
        "  y_hat = SIR_samp[:,1]*N\n",
        "  sq = sum((ytrue - y_hat)**2)\n",
        "  if (sq < min_sq):\n",
        "    min_sq = sq_0\n",
        "    beta_lse = beta\n",
        "print('Beta hat : %.3f' %(beta_lse))\n",
        "print('R : %.3f' %(beta_lse*4))\n",
        "print('Minimum SS : %.3f' %(min_sq))\n"
      ],
      "execution_count": null,
      "outputs": [
        {
          "output_type": "stream",
          "text": [
            "Beta hat : 0.086\n",
            "R : 0.344\n",
            "Minimum SS : 208836.774\n"
          ],
          "name": "stdout"
        }
      ]
    },
    {
      "cell_type": "code",
      "metadata": {
        "colab": {
          "base_uri": "https://localhost:8080/"
        },
        "id": "9G1Toyhsim0-",
        "outputId": "d9f255b7-a237-424a-c2f1-4f9a1c39cd6b"
      },
      "source": [
        "# 5.05~10.17\n",
        "t = np.arange(79, 241)\n",
        "ytrue = df.iloc[78:240,5].array\n",
        "beta = 0\n",
        "SIR_samp_0= spi.odeint(SIR, Input, t)\n",
        "y_hat = SIR_samp_0[:,1]*N\n",
        "sq_0 = sum((ytrue - y_hat)**2)\n",
        "\n",
        "#initial setting \n",
        "min_sq = sq_0\n",
        "beta_lse = 0\n",
        "\n",
        "# for loop\n",
        "for b in np.linspace(0,1,1000):\n",
        "  beta = b\n",
        "  SIR_samp= spi.odeint(SIR, Input, t)\n",
        "  y_hat = SIR_samp[:,1]*N\n",
        "  sq = sum((ytrue - y_hat)**2)\n",
        "  if (sq < min_sq):\n",
        "    min_sq = sq_0\n",
        "    beta_lse = beta\n",
        "print('Beta hat : %.3f' %(beta_lse))\n",
        "print('R : %.3f' %(beta_lse*4))\n",
        "print('Minimum SS : %.3f' %(min_sq))"
      ],
      "execution_count": null,
      "outputs": [
        {
          "output_type": "stream",
          "text": [
            "Beta hat : 0.087\n",
            "R : 0.348\n",
            "Minimum SS : 2433131.569\n"
          ],
          "name": "stdout"
        }
      ]
    },
    {
      "cell_type": "code",
      "metadata": {
        "colab": {
          "base_uri": "https://localhost:8080/"
        },
        "id": "PIQMLejeim0-",
        "outputId": "d7eff712-f66b-4422-8206-cdd379772afc"
      },
      "source": [
        "# 한달간의 차이 확인\n",
        "np.arange(1, 28)"
      ],
      "execution_count": null,
      "outputs": [
        {
          "output_type": "execute_result",
          "data": {
            "text/plain": [
              "array([ 1,  2,  3,  4,  5,  6,  7,  8,  9, 10, 11, 12, 13, 14, 15, 16, 17,\n",
              "       18, 19, 20, 21, 22, 23, 24, 25, 26, 27])"
            ]
          },
          "metadata": {
            "tags": []
          },
          "execution_count": 52
        }
      ]
    },
    {
      "cell_type": "code",
      "metadata": {
        "colab": {
          "base_uri": "https://localhost:8080/"
        },
        "id": "8wCzkuM3im0-",
        "outputId": "0c812423-7e60-4e70-e1fe-c6b8dc9ab088"
      },
      "source": [
        "betas_monthly = []\n",
        "\n",
        "t = np.arange(1, 29)\n",
        "ytrue = df.iloc[0:28,5].array\n",
        "beta = 0\n",
        "SIR_samp_0= spi.odeint(SIR, Input, t)\n",
        "y_hat = SIR_samp_0[:,1]*N\n",
        "sq_0 = sum((ytrue - y_hat)**2)\n",
        "#initial setting \n",
        "min_sq = sq_0\n",
        "beta_lse = 0\n",
        "# for loop\n",
        "for b in np.linspace(0,1,1000):\n",
        "  beta = b\n",
        "  SIR_samp= spi.odeint(SIR, Input, t)\n",
        "  y_hat = SIR_samp[:,1]*N\n",
        "  sq = sum((ytrue - y_hat)**2)\n",
        "  if (sq < min_sq):\n",
        "    min_sq = sq_0\n",
        "    beta_lse = beta\n",
        "print('Beta hat : %.3f' %(beta_lse))\n",
        "print('R : %.3f' %(beta_lse*4))\n",
        "print('Minimum SS : %.3f' %(min_sq))\n",
        "betas_monthly.append(beta_lse)\n",
        "\n",
        "t = np.arange(29, 61)\n",
        "ytrue = df.iloc[28:60,5].array\n",
        "beta = 0\n",
        "SIR_samp_0= spi.odeint(SIR, Input, t)\n",
        "y_hat = SIR_samp_0[:,1]*N\n",
        "sq_0 = sum((ytrue - y_hat)**2)\n",
        "#initial setting \n",
        "min_sq = sq_0\n",
        "beta_lse = 0\n",
        "# for loop\n",
        "for b in np.linspace(0,1,1000):\n",
        "  beta = b\n",
        "  SIR_samp= spi.odeint(SIR, Input, t)\n",
        "  y_hat = SIR_samp[:,1]*N\n",
        "  sq = sum((ytrue - y_hat)**2)\n",
        "  if (sq < min_sq):\n",
        "    min_sq = sq_0\n",
        "    beta_lse = beta\n",
        "print('Beta hat : %.3f' %(beta_lse))\n",
        "print('R : %.3f' %(beta_lse*4))\n",
        "print('Minimum SS : %.3f' %(min_sq))\n",
        "betas_monthly.append(beta_lse)\n",
        "\n",
        "\n",
        "\n",
        "t = np.arange(61, 91)\n",
        "ytrue = df.iloc[60:90,5].array\n",
        "beta = 0\n",
        "SIR_samp_0= spi.odeint(SIR, Input, t)\n",
        "y_hat = SIR_samp_0[:,1]*N\n",
        "sq_0 = sum((ytrue - y_hat)**2)\n",
        "#initial setting \n",
        "min_sq = sq_0\n",
        "beta_lse = 0\n",
        "# for loo\n",
        "for b in np.linspace(0,1,1000):\n",
        "  beta = b\n",
        "  SIR_samp= spi.odeint(SIR, Input, t)\n",
        "  y_hat = SIR_samp[:,1]*N\n",
        "  sq = sum((ytrue - y_hat)**2)\n",
        "  if (sq < min_sq):\n",
        "    min_sq = sq_0\n",
        "    beta_lse = beta\n",
        "print('Beta hat : %.3f' %(beta_lse))\n",
        "print('R : %.3f' %(beta_lse*4))\n",
        "print('Minimum SS : %.3f' %(min_sq))\n",
        "betas_monthly.append(beta_lse)\n",
        "\n",
        "t = np.arange(91, 122)\n",
        "ytrue = df.iloc[90:121,5].array\n",
        "beta = 0\n",
        "SIR_samp_0= spi.odeint(SIR, Input, t)\n",
        "y_hat = SIR_samp_0[:,1]*N\n",
        "sq_0 = sum((ytrue - y_hat)**2)\n",
        "#initial setting \n",
        "min_sq = sq_0\n",
        "beta_lse = 0\n",
        "# for loop\n",
        "for b in np.linspace(0,1,1000):\n",
        "  beta = b\n",
        "  SIR_samp= spi.odeint(SIR, Input, t)\n",
        "  y_hat = SIR_samp[:,1]*N\n",
        "  sq = sum((ytrue - y_hat)**2)\n",
        "  if (sq < min_sq):\n",
        "    min_sq = sq_0\n",
        "    beta_lse = beta\n",
        "print('Beta hat : %.3f' %(beta_lse))\n",
        "print('R : %.3f' %(beta_lse*4))\n",
        "print('Minimum SS : %.3f' %(min_sq))\n",
        "betas_monthly.append(beta_lse)\n",
        "\n",
        "t = np.arange(122, 152)\n",
        "ytrue = df.iloc[121:151,5].array\n",
        "beta = 0\n",
        "SIR_samp_0= spi.odeint(SIR, Input, t)\n",
        "y_hat = SIR_samp_0[:,1]*N\n",
        "sq_0 = sum((ytrue - y_hat)**2)\n",
        "#initial setting \n",
        "min_sq = sq_0\n",
        "beta_lse = 0\n",
        "# for loop\n",
        "for b in np.linspace(0,1,1000):\n",
        "  beta = b\n",
        "  SIR_samp= spi.odeint(SIR, Input, t)\n",
        "  y_hat = SIR_samp[:,1]*N\n",
        "  sq = sum((ytrue - y_hat)**2)\n",
        "  if (sq < min_sq):\n",
        "    min_sq = sq_0\n",
        "    beta_lse = beta\n",
        "print('Beta hat : %.3f' %(beta_lse))\n",
        "print('R : %.3f' %(beta_lse*4))\n",
        "print('Minimum SS : %.3f' %(min_sq))\n",
        "betas_monthly.append(beta_lse)\n",
        "\n",
        "t = np.arange(152, 183)\n",
        "ytrue = df.iloc[151:182,5].array\n",
        "beta = 0\n",
        "SIR_samp_0= spi.odeint(SIR, Input, t)\n",
        "y_hat = SIR_samp_0[:,1]*N\n",
        "sq_0 = sum((ytrue - y_hat)**2)\n",
        "#initial setting \n",
        "min_sq = sq_0\n",
        "beta_lse = 0\n",
        "# for loop\n",
        "for b in np.linspace(0,1,1000):\n",
        "  beta = b\n",
        "  SIR_samp= spi.odeint(SIR, Input, t)\n",
        "  y_hat = SIR_samp[:,1]*N\n",
        "  sq = sum((ytrue - y_hat)**2)\n",
        "  if (sq < min_sq):\n",
        "    min_sq = sq_0\n",
        "    beta_lse = beta\n",
        "print('Beta hat : %.3f' %(beta_lse))\n",
        "print('R : %.3f' %(beta_lse*4))\n",
        "print('Minimum SS : %.3f' %(min_sq))\n",
        "betas_monthly.append(beta_lse)\n",
        "\n",
        "t = np.arange(183, 214)\n",
        "ytrue = df.iloc[182:213,5].array\n",
        "beta = 0\n",
        "SIR_samp_0= spi.odeint(SIR, Input, t)\n",
        "y_hat = SIR_samp_0[:,1]*N\n",
        "sq_0 = sum((ytrue - y_hat)**2)\n",
        "#initial setting \n",
        "min_sq = sq_0\n",
        "beta_lse = 0\n",
        "# for loop\n",
        "for b in np.linspace(0,1,1000):\n",
        "  beta = b\n",
        "  SIR_samp= spi.odeint(SIR, Input, t)\n",
        "  y_hat = SIR_samp[:,1]*N\n",
        "  sq = sum((ytrue - y_hat)**2)\n",
        "  if (sq < min_sq):\n",
        "    min_sq = sq_0\n",
        "    beta_lse = beta\n",
        "print('Beta hat : %.3f' %(beta_lse))\n",
        "print('R : %.3f' %(beta_lse*4))\n",
        "print('Minimum SS : %.3f' %(min_sq))\n",
        "betas_monthly.append(beta_lse)\n",
        "\n",
        "t = np.arange(214, 244)\n",
        "ytrue = df.iloc[213:243,5].array\n",
        "beta = 0\n",
        "SIR_samp_0= spi.odeint(SIR, Input, t)\n",
        "y_hat = SIR_samp_0[:,1]*N\n",
        "sq_0 = sum((ytrue - y_hat)**2)\n",
        "#initial setting \n",
        "min_sq = sq_0\n",
        "beta_lse = 0\n",
        "# for loop\n",
        "for b in np.linspace(0,1,1000):\n",
        "  beta = b\n",
        "  SIR_samp= spi.odeint(SIR, Input, t)\n",
        "  y_hat = SIR_samp[:,1]*N\n",
        "  sq = sum((ytrue - y_hat)**2)\n",
        "  if (sq < min_sq):\n",
        "    min_sq = sq_0\n",
        "    beta_lse = beta\n",
        "print('Beta hat : %.3f' %(beta_lse))\n",
        "print('R : %.3f' %(beta_lse*4))\n",
        "print('Minimum SS : %.3f' %(min_sq))\n",
        "betas_monthly.append(beta_lse)\n",
        "\n",
        "\n",
        "t = np.arange(244, 275)\n",
        "ytrue = df.iloc[243:274,5].array\n",
        "beta = 0\n",
        "SIR_samp_0= spi.odeint(SIR, Input, t)\n",
        "y_hat = SIR_samp_0[:,1]*N\n",
        "sq_0 = sum((ytrue - y_hat)**2)\n",
        "#initial setting \n",
        "min_sq = sq_0\n",
        "beta_lse = 0\n",
        "# for loop\n",
        "for b in np.linspace(0,1,1000):\n",
        "  beta = b\n",
        "  SIR_samp= spi.odeint(SIR, Input, t)\n",
        "  y_hat = SIR_samp[:,1]*N\n",
        "  sq = sum((ytrue - y_hat)**2)\n",
        "  if (sq < min_sq):\n",
        "    min_sq = sq_0\n",
        "    beta_lse = beta\n",
        "print('Beta hat : %.3f' %(beta_lse))\n",
        "print('R : %.3f' %(beta_lse*4))\n",
        "print('Minimum SS : %.3f' %(min_sq))\n",
        "betas_monthly.append(beta_lse)\n",
        "\n",
        "t = np.arange(275, 299)\n",
        "ytrue = df.iloc[274:298,5].array\n",
        "beta = 0\n",
        "SIR_samp_0= spi.odeint(SIR, Input, t)\n",
        "y_hat = SIR_samp_0[:,1]*N\n",
        "sq_0 = sum((ytrue - y_hat)**2)\n",
        "#initial setting \n",
        "min_sq = sq_0\n",
        "beta_lse = 0\n",
        "# for loop\n",
        "for b in np.linspace(0,1,1000):\n",
        "  beta = b\n",
        "  SIR_samp= spi.odeint(SIR, Input, t)\n",
        "  y_hat = SIR_samp[:,1]*N\n",
        "  sq = sum((ytrue - y_hat)**2)\n",
        "  if (sq < min_sq):\n",
        "    min_sq = sq_0\n",
        "    beta_lse = beta\n",
        "print('Beta hat : %.3f' %(beta_lse))\n",
        "print('R : %.3f' %(beta_lse*4))\n",
        "print('Minimum SS : %.3f' %(min_sq))\n",
        "betas_monthly.append(beta_lse)"
      ],
      "execution_count": null,
      "outputs": [
        {
          "output_type": "stream",
          "text": [
            "Beta hat : 0.188\n",
            "R : 0.753\n",
            "Minimum SS : 810759.652\n",
            "Beta hat : 0.153\n",
            "R : 0.613\n",
            "Minimum SS : 2766030.530\n",
            "Beta hat : 0.071\n",
            "R : 0.284\n",
            "Minimum SS : 25011.383\n",
            "Beta hat : 0.091\n",
            "R : 0.364\n",
            "Minimum SS : 17444.620\n",
            "Beta hat : 0.116\n",
            "R : 0.464\n",
            "Minimum SS : 34809.023\n",
            "Beta hat : 0.116\n",
            "R : 0.464\n",
            "Minimum SS : 48913.050\n",
            "Beta hat : 0.186\n",
            "R : 0.745\n",
            "Minimum SS : 1535862.695\n",
            "Beta hat : 0.149\n",
            "R : 0.597\n",
            "Minimum SS : 461757.589\n",
            "Beta hat : 0.147\n",
            "R : 0.589\n",
            "Minimum SS : 197949.205\n",
            "Beta hat : 0.220\n",
            "R : 0.881\n",
            "Minimum SS : 1089008.733\n"
          ],
          "name": "stdout"
        }
      ]
    },
    {
      "cell_type": "code",
      "metadata": {
        "colab": {
          "base_uri": "https://localhost:8080/"
        },
        "id": "2HC_uBL0im0-",
        "outputId": "86c6a5c0-ff43-40a7-b029-ae1b1c55a646"
      },
      "source": [
        "betas_monthly"
      ],
      "execution_count": null,
      "outputs": [
        {
          "output_type": "execute_result",
          "data": {
            "text/plain": [
              "[0.1881881881881882,\n",
              " 0.15315315315315314,\n",
              " 0.07107107107107107,\n",
              " 0.09109109109109109,\n",
              " 0.11611611611611611,\n",
              " 0.11611611611611611,\n",
              " 0.18618618618618618,\n",
              " 0.14914914914914915,\n",
              " 0.14714714714714713,\n",
              " 0.22022022022022023]"
            ]
          },
          "metadata": {
            "tags": []
          },
          "execution_count": 54
        }
      ]
    },
    {
      "cell_type": "code",
      "metadata": {
        "id": "ReSx7N9io8WI"
      },
      "source": [
        "# 여기서 월별로 beta 값과 R값에 대해서 플라팅 + 확진자 추이를 같이 시각화 필요\n",
        "\n",
        "beta_0 = 0.220\n",
        "beta_1 = beta_0*0.7\n",
        "beta_2 = beta_0*0.5\n",
        "beta_3 = beta_0*0.3\n",
        "\n",
        "# 초기값 349, "
      ],
      "execution_count": null,
      "outputs": []
    },
    {
      "cell_type": "code",
      "metadata": {
        "colab": {
          "base_uri": "https://localhost:8080/",
          "height": 78
        },
        "id": "q6PuuVrI5f8l",
        "outputId": "9c2d4716-80ec-41ff-fefb-226470c852ee"
      },
      "source": [
        "df.tail(1)"
      ],
      "execution_count": null,
      "outputs": [
        {
          "output_type": "execute_result",
          "data": {
            "text/html": [
              "<div>\n",
              "<style scoped>\n",
              "    .dataframe tbody tr th:only-of-type {\n",
              "        vertical-align: middle;\n",
              "    }\n",
              "\n",
              "    .dataframe tbody tr th {\n",
              "        vertical-align: top;\n",
              "    }\n",
              "\n",
              "    .dataframe thead th {\n",
              "        text-align: right;\n",
              "    }\n",
              "</style>\n",
              "<table border=\"1\" class=\"dataframe\">\n",
              "  <thead>\n",
              "    <tr style=\"text-align: right;\">\n",
              "      <th></th>\n",
              "      <th>날짜</th>\n",
              "      <th>누적 확진자</th>\n",
              "      <th>누적 사망자</th>\n",
              "      <th>누적 완치자</th>\n",
              "      <th>사망자</th>\n",
              "      <th>확진자</th>\n",
              "      <th>완치자</th>\n",
              "    </tr>\n",
              "  </thead>\n",
              "  <tbody>\n",
              "    <tr>\n",
              "      <th>297</th>\n",
              "      <td>2020-11-24</td>\n",
              "      <td>31353</td>\n",
              "      <td>510</td>\n",
              "      <td>26722</td>\n",
              "      <td>1.0</td>\n",
              "      <td>349.0</td>\n",
              "      <td>183.0</td>\n",
              "    </tr>\n",
              "  </tbody>\n",
              "</table>\n",
              "</div>"
            ],
            "text/plain": [
              "             날짜  누적 확진자  누적 사망자  누적 완치자  사망자    확진자    완치자\n",
              "297  2020-11-24   31353     510   26722  1.0  349.0  183.0"
            ]
          },
          "metadata": {
            "tags": []
          },
          "execution_count": 58
        }
      ]
    },
    {
      "cell_type": "code",
      "metadata": {
        "colab": {
          "base_uri": "https://localhost:8080/"
        },
        "id": "rauk_IXt6D-P",
        "outputId": "5e98137f-ec5b-4f3c-ef90-fab465e0c244"
      },
      "source": [
        "gamma =  1/14\n",
        "\n",
        "# 2/18 31번확진자 나온날 기준으로 초기 SIR 모델 만듦.\n",
        "I0  = 349; R0 = 183 ;S0  = 51839408-I0 - R0-31353-510-26722;\n",
        "N = S0 + I0 + R0\n",
        "\n",
        "S0/= N\n",
        "I0/= N\n",
        "R0/= N\n",
        "\n",
        "Input_ = (S0, I0, R0)\n",
        "Input_\n",
        "\n",
        "t = np.arange(1, 150)\n",
        "beta = beta_0\n",
        "SIR_= spi.odeint(SIR, Input_, t)\n",
        "i_b0 = SIR_[:,1]*N\n",
        "i_b0"
      ],
      "execution_count": null,
      "outputs": [
        {
          "output_type": "execute_result",
          "data": {
            "text/plain": [
              "array([3.49000000e+02, 4.05052932e+02, 4.70092463e+02, 5.45545910e+02,\n",
              "       6.32967602e+02, 7.34268034e+02, 8.51856204e+02, 9.88485777e+02,\n",
              "       1.14691437e+03, 1.33087552e+03, 1.54420155e+03, 1.79179619e+03,\n",
              "       2.07905724e+03, 2.41216991e+03, 2.79865268e+03, 3.24722209e+03,\n",
              "       3.76746738e+03, 4.37134704e+03, 5.07153922e+03, 5.88390806e+03,\n",
              "       6.82652856e+03, 7.91991914e+03, 9.18840746e+03, 1.06601963e+04,\n",
              "       1.23670687e+04, 1.43471029e+04, 1.66439537e+04, 1.93084210e+04,\n",
              "       2.23986158e+04, 2.59821713e+04, 3.01384435e+04, 3.49587818e+04,\n",
              "       4.05489972e+04, 4.70312676e+04, 5.45473070e+04, 6.32613013e+04,\n",
              "       7.33629233e+04, 8.50714042e+04, 9.86405532e+04, 1.14363905e+05,\n",
              "       1.32579446e+05, 1.53677383e+05, 1.78106974e+05, 2.06385904e+05,\n",
              "       2.39108825e+05, 2.76958392e+05, 3.20716913e+05, 3.71278417e+05,\n",
              "       4.29663313e+05, 4.97031791e+05, 5.74699463e+05, 6.64152056e+05,\n",
              "       7.67059945e+05, 8.85290972e+05, 1.02092025e+06, 1.17623757e+06,\n",
              "       1.35374373e+06, 1.55614095e+06, 1.78631295e+06, 2.04728206e+06,\n",
              "       2.34215312e+06, 2.67402851e+06, 3.04589615e+06, 3.46048571e+06,\n",
              "       3.92009189e+06, 4.42636643e+06, 4.98008433e+06, 5.58089520e+06,\n",
              "       6.22707613e+06, 6.91530875e+06, 7.64050656e+06, 8.39572862e+06,\n",
              "       9.17219433e+06, 9.95943516e+06, 1.07455843e+07, 1.15177985e+07,\n",
              "       1.22627921e+07, 1.29674357e+07, 1.36193683e+07, 1.42075702e+07,\n",
              "       1.47228410e+07, 1.51581422e+07, 1.55087861e+07, 1.57724667e+07,\n",
              "       1.59491482e+07, 1.60408393e+07, 1.60512877e+07, 1.59856311e+07,\n",
              "       1.58500363e+07, 1.56513535e+07, 1.53968045e+07, 1.50937151e+07,\n",
              "       1.47492965e+07, 1.43704774e+07, 1.39637821e+07, 1.35352484e+07,\n",
              "       1.30903797e+07, 1.26341253e+07, 1.21708802e+07, 1.17045021e+07,\n",
              "       1.12383381e+07, 1.07752593e+07, 1.03176990e+07, 9.86769318e+06,\n",
              "       9.42692010e+06, 8.99673986e+06, 8.57823132e+06, 8.17222670e+06,\n",
              "       7.77934359e+06, 7.40001393e+06, 7.03451017e+06, 6.68296897e+06,\n",
              "       6.34541192e+06, 6.02176396e+06, 5.71186975e+06, 5.41550780e+06,\n",
              "       5.13240286e+06, 4.86223669e+06, 4.60465734e+06, 4.35928710e+06,\n",
              "       4.12572943e+06, 3.90357469e+06, 3.69240512e+06, 3.49179925e+06,\n",
              "       3.30133498e+06, 3.12059282e+06, 2.94915830e+06, 2.78662364e+06,\n",
              "       2.63258981e+06, 2.48666732e+06, 2.34847755e+06, 2.21765342e+06,\n",
              "       2.09383975e+06, 1.97669394e+06, 1.86588589e+06, 1.76109832e+06,\n",
              "       1.66202666e+06, 1.56837897e+06, 1.47987585e+06, 1.39625010e+06,\n",
              "       1.31724658e+06, 1.24262182e+06, 1.17214374e+06, 1.10559138e+06,\n",
              "       1.04275434e+06, 9.83432519e+05, 9.27435772e+05, 8.74583429e+05,\n",
              "       8.24703979e+05])"
            ]
          },
          "metadata": {
            "tags": []
          },
          "execution_count": 76
        }
      ]
    },
    {
      "cell_type": "code",
      "metadata": {
        "colab": {
          "base_uri": "https://localhost:8080/",
          "height": 78
        },
        "id": "JY69AJNIGvs7",
        "outputId": "7b92eace-550f-4931-edc1-8004fe54fd99"
      },
      "source": [
        "df[df['날짜'] == '2020-03-21']"
      ],
      "execution_count": null,
      "outputs": [
        {
          "output_type": "execute_result",
          "data": {
            "text/html": [
              "<div>\n",
              "<style scoped>\n",
              "    .dataframe tbody tr th:only-of-type {\n",
              "        vertical-align: middle;\n",
              "    }\n",
              "\n",
              "    .dataframe tbody tr th {\n",
              "        vertical-align: top;\n",
              "    }\n",
              "\n",
              "    .dataframe thead th {\n",
              "        text-align: right;\n",
              "    }\n",
              "</style>\n",
              "<table border=\"1\" class=\"dataframe\">\n",
              "  <thead>\n",
              "    <tr style=\"text-align: right;\">\n",
              "      <th></th>\n",
              "      <th>날짜</th>\n",
              "      <th>누적 확진자</th>\n",
              "      <th>누적 사망자</th>\n",
              "      <th>누적 완치자</th>\n",
              "      <th>사망자</th>\n",
              "      <th>확진자</th>\n",
              "      <th>완치자</th>\n",
              "    </tr>\n",
              "  </thead>\n",
              "  <tbody>\n",
              "    <tr>\n",
              "      <th>49</th>\n",
              "      <td>2020-03-21</td>\n",
              "      <td>8799</td>\n",
              "      <td>102</td>\n",
              "      <td>2612</td>\n",
              "      <td>8.0</td>\n",
              "      <td>147.0</td>\n",
              "      <td>379.0</td>\n",
              "    </tr>\n",
              "  </tbody>\n",
              "</table>\n",
              "</div>"
            ],
            "text/plain": [
              "            날짜  누적 확진자  누적 사망자  누적 완치자  사망자    확진자    완치자\n",
              "49  2020-03-21    8799     102    2612  8.0  147.0  379.0"
            ]
          },
          "metadata": {
            "tags": []
          },
          "execution_count": 113
        }
      ]
    },
    {
      "cell_type": "code",
      "metadata": {
        "colab": {
          "base_uri": "https://localhost:8080/"
        },
        "id": "jcDOA1QTGsxv",
        "outputId": "71763785-c023-4cb1-c03d-ab195e346d10"
      },
      "source": [
        "# 대유행 1\n",
        "\n",
        "I0  = 1; R0 = 0 ;S0 = 51839408-I0 - R0-25;\n",
        "N = S0 + I0 + R0\n",
        "\n",
        "S0/= N\n",
        "I0/= N\n",
        "R0/= N\n",
        "\n",
        "Input = (S0, I0, R0)\n",
        "\n",
        "# Initial Setting \n",
        "t = np.arange(7, 51)\n",
        "ytrue = df.iloc[6:50,5].array\n",
        "beta = 0\n",
        "SIR_samp_0= spi.odeint(SIR, Input, t)\n",
        "y_hat = SIR_samp_0[:,1]*N\n",
        "sq_0 = sum((ytrue - y_hat)**2)\n",
        "\n",
        "#initial setting \n",
        "min_sq = sq_0\n",
        "beta_lse = 0\n",
        "\n",
        "# for loop\n",
        "for b in np.linspace(0,1,1000):\n",
        "  beta = b\n",
        "  SIR_samp= spi.odeint(SIR, Input, t)\n",
        "  y_hat = SIR_samp[:,1]*N\n",
        "  sq = sum((ytrue - y_hat)**2)\n",
        "  if (sq < min_sq):\n",
        "    min_sq = sq_0\n",
        "    beta_lse = beta\n",
        "print('Beta hat : %.3f' %(beta_lse))\n",
        "print('R : %.3f' %(beta_lse*14))\n",
        "print('Minimum SS : %.3f' %(min_sq))\n"
      ],
      "execution_count": null,
      "outputs": [
        {
          "output_type": "stream",
          "text": [
            "Beta hat : 0.216\n",
            "R : 3.027\n",
            "Minimum SS : 3765006.943\n"
          ],
          "name": "stdout"
        }
      ]
    },
    {
      "cell_type": "code",
      "metadata": {
        "colab": {
          "base_uri": "https://localhost:8080/"
        },
        "id": "Du2i4pDMHxxF",
        "outputId": "e52faf46-5d20-42e6-80b8-215835e0560e"
      },
      "source": [
        "beta = 0.216\n",
        "SIR_= spi.odeint(SIR, Input, t)\n",
        "i_b0 = SIR_[:,1]*N\n",
        "i_b0"
      ],
      "execution_count": null,
      "outputs": [
        {
          "output_type": "execute_result",
          "data": {
            "text/plain": [
              "array([  1.        ,   1.16475911,   1.36996977,   1.61563203,\n",
              "         1.90174591,   2.2283114 ,   2.5953285 ,   3.0027972 ,\n",
              "         3.45071752,   3.97893764,   4.65510579,   5.48033872,\n",
              "         6.45463642,   7.57799888,   8.85042612,  10.27191814,\n",
              "        11.84247492,  13.60979603,  15.70514357,  18.15199389,\n",
              "        20.99976116,  24.28010344,  28.09179211,  32.50004125,\n",
              "        37.73028604,  43.80586516,  50.72677862,  58.61053614,\n",
              "        67.88849493,  78.60056696,  90.83893526, 105.23039391,\n",
              "       121.89273636, 140.87890017, 162.98959107, 188.49457178,\n",
              "       218.02989758, 252.30595461, 291.66549537, 337.3435287 ,\n",
              "       390.03577937, 451.09224391, 521.40624038, 603.18188941])"
            ]
          },
          "metadata": {
            "tags": []
          },
          "execution_count": 116
        }
      ]
    },
    {
      "cell_type": "code",
      "metadata": {
        "colab": {
          "base_uri": "https://localhost:8080/",
          "height": 78
        },
        "id": "uZXKmeFBLRsZ",
        "outputId": "5a663ec7-2a9e-4418-acf2-1b58fd97d8b9"
      },
      "source": [
        "df[df['날짜'] == '2020-08-15']"
      ],
      "execution_count": null,
      "outputs": [
        {
          "output_type": "execute_result",
          "data": {
            "text/html": [
              "<div>\n",
              "<style scoped>\n",
              "    .dataframe tbody tr th:only-of-type {\n",
              "        vertical-align: middle;\n",
              "    }\n",
              "\n",
              "    .dataframe tbody tr th {\n",
              "        vertical-align: top;\n",
              "    }\n",
              "\n",
              "    .dataframe thead th {\n",
              "        text-align: right;\n",
              "    }\n",
              "</style>\n",
              "<table border=\"1\" class=\"dataframe\">\n",
              "  <thead>\n",
              "    <tr style=\"text-align: right;\">\n",
              "      <th></th>\n",
              "      <th>날짜</th>\n",
              "      <th>누적 확진자</th>\n",
              "      <th>누적 사망자</th>\n",
              "      <th>누적 완치자</th>\n",
              "      <th>사망자</th>\n",
              "      <th>확진자</th>\n",
              "      <th>완치자</th>\n",
              "    </tr>\n",
              "  </thead>\n",
              "  <tbody>\n",
              "    <tr>\n",
              "      <th>196</th>\n",
              "      <td>2020-08-15</td>\n",
              "      <td>15039</td>\n",
              "      <td>305</td>\n",
              "      <td>13901</td>\n",
              "      <td>0.0</td>\n",
              "      <td>166.0</td>\n",
              "      <td>38.0</td>\n",
              "    </tr>\n",
              "  </tbody>\n",
              "</table>\n",
              "</div>"
            ],
            "text/plain": [
              "             날짜  누적 확진자  누적 사망자  누적 완치자  사망자    확진자   완치자\n",
              "196  2020-08-15   15039     305   13901  0.0  166.0  38.0"
            ]
          },
          "metadata": {
            "tags": []
          },
          "execution_count": 111
        }
      ]
    },
    {
      "cell_type": "code",
      "metadata": {
        "id": "lzAVWVWbDslS"
      },
      "source": [
        "# 대유행 2\n",
        "\n",
        "I0  = 36; R0 = 52 ;S0 = 51839408-I0 - R0-14305-301 - 13183;\n",
        "N = S0 + I0 + R0\n",
        "\n",
        "S0/= N\n",
        "I0/= N\n",
        "R0/= N\n",
        "\n",
        "Input = (S0, I0, R0)\n",
        "\n",
        "# Initial Setting \n",
        "t = np.arange(182, 198)\n",
        "ytrue = df.iloc[181:197,5].array\n",
        "beta = 0\n",
        "SIR_samp_0= spi.odeint(SIR, Input, t)\n",
        "y_hat = SIR_samp_0[:,1]*N\n",
        "sq_0 = sum((ytrue - y_hat)**2)\n",
        "\n",
        "#initial setting \n",
        "min_sq = sq_0\n",
        "beta_lse = 0\n",
        "\n",
        "# for loop\n",
        "for b in np.linspace(0,1,1000):\n",
        "  beta = b\n",
        "  SIR_samp= spi.odeint(SIR, Input, t)\n",
        "  y_hat = SIR_samp[:,1]*N\n",
        "  sq = sum((ytrue - y_hat)**2)\n",
        "  if (sq < min_sq):\n",
        "    min_sq = sq_0\n",
        "    beta_lse = beta\n",
        "print('Beta hat : %.3f' %(beta_lse))\n",
        "print('R : %.3f' %(beta_lse*14))\n",
        "print('Minimum SS : %.3f' %(min_sq))"
      ],
      "execution_count": null,
      "outputs": []
    },
    {
      "cell_type": "code",
      "metadata": {
        "colab": {
          "base_uri": "https://localhost:8080/"
        },
        "id": "HnM4xqcvF7OC",
        "outputId": "922c864a-8f5b-4da7-8eef-f66b75c54d02"
      },
      "source": [
        "beta = 0.109\n",
        "SIR_= spi.odeint(SIR, Input, t)\n",
        "i_b0 = SIR_[:,1]*N\n",
        "i_b0"
      ],
      "execution_count": null,
      "outputs": [
        {
          "output_type": "execute_result",
          "data": {
            "text/plain": [
              "array([ 36.        ,  37.38307256,  38.82803875,  40.33493498,\n",
              "        41.90376126,  43.53451758,  45.22720394,  46.98182034,\n",
              "        48.79836678,  50.67684327,  52.61784546,  54.63969917,\n",
              "        56.75105479,  58.9519123 ,  61.24227172,  63.62213303,\n",
              "        66.09149625,  68.65036136,  71.29872837,  74.03659728,\n",
              "        76.31688072,  79.43203122,  82.64271508,  85.95306228,\n",
              "        89.36720282,  92.88926667,  96.52338382, 100.27368427,\n",
              "       104.14429798, 108.13935495, 112.26815068, 116.55076433,\n",
              "       120.99544508, 125.60965046, 130.40083801, 135.37646525,\n",
              "       140.54398971, 145.91086892, 151.4845604 , 157.2725217 ,\n",
              "       163.28221032, 169.52108382, 176.00196892, 182.73950058,\n",
              "       189.74297471, 197.02168306, 204.58491739, 212.44196945,\n",
              "       220.602131  , 229.07469378, 237.86894956, 246.99419008,\n",
              "       256.4597071 , 266.27556848, 276.47194891, 287.07109764,\n",
              "       298.08718078, 309.53436441, 321.42681464, 333.77869756,\n",
              "       346.60417929, 359.9174259 , 373.73260351, 388.06387822,\n",
              "       402.92541611, 418.33612428, 434.34280316])"
            ]
          },
          "metadata": {
            "tags": []
          },
          "execution_count": 92
        }
      ]
    },
    {
      "cell_type": "code",
      "metadata": {
        "colab": {
          "base_uri": "https://localhost:8080/",
          "height": 78
        },
        "id": "1t9ukPSeDxEU",
        "outputId": "16a98df2-49aa-4121-e02a-e6e648c1c204"
      },
      "source": [
        "df[df['날짜'] == '2020-11-24']"
      ],
      "execution_count": null,
      "outputs": [
        {
          "output_type": "execute_result",
          "data": {
            "text/html": [
              "<div>\n",
              "<style scoped>\n",
              "    .dataframe tbody tr th:only-of-type {\n",
              "        vertical-align: middle;\n",
              "    }\n",
              "\n",
              "    .dataframe tbody tr th {\n",
              "        vertical-align: top;\n",
              "    }\n",
              "\n",
              "    .dataframe thead th {\n",
              "        text-align: right;\n",
              "    }\n",
              "</style>\n",
              "<table border=\"1\" class=\"dataframe\">\n",
              "  <thead>\n",
              "    <tr style=\"text-align: right;\">\n",
              "      <th></th>\n",
              "      <th>날짜</th>\n",
              "      <th>누적 확진자</th>\n",
              "      <th>누적 사망자</th>\n",
              "      <th>누적 완치자</th>\n",
              "      <th>사망자</th>\n",
              "      <th>확진자</th>\n",
              "      <th>완치자</th>\n",
              "    </tr>\n",
              "  </thead>\n",
              "  <tbody>\n",
              "    <tr>\n",
              "      <th>297</th>\n",
              "      <td>2020-11-24</td>\n",
              "      <td>31353</td>\n",
              "      <td>510</td>\n",
              "      <td>26722</td>\n",
              "      <td>1.0</td>\n",
              "      <td>349.0</td>\n",
              "      <td>183.0</td>\n",
              "    </tr>\n",
              "  </tbody>\n",
              "</table>\n",
              "</div>"
            ],
            "text/plain": [
              "             날짜  누적 확진자  누적 사망자  누적 완치자  사망자    확진자    완치자\n",
              "297  2020-11-24   31353     510   26722  1.0  349.0  183.0"
            ]
          },
          "metadata": {
            "tags": []
          },
          "execution_count": 99
        }
      ]
    },
    {
      "cell_type": "code",
      "metadata": {
        "colab": {
          "base_uri": "https://localhost:8080/"
        },
        "id": "naEIyqmHIPpv",
        "outputId": "24066018-d5b5-45c8-eae1-92d28ebb20e4"
      },
      "source": [
        "# 대유행 3\n",
        "\n",
        "I0  = 73; R0 = 41 ;S0 = 51839408-I0 - R0-24164-422-21886;\n",
        "N = S0 + I0 + R0\n",
        "\n",
        "S0/= N\n",
        "I0/= N\n",
        "R0/= N\n",
        "\n",
        "Input = (S0, I0, R0)\n",
        "\n",
        "# Initial Setting \n",
        "t = np.arange(248, 299)\n",
        "ytrue = df.iloc[247:298,5].array\n",
        "beta = 0\n",
        "SIR_samp_0= spi.odeint(SIR, Input, t)\n",
        "y_hat = SIR_samp_0[:,1]*N\n",
        "sq_0 = sum((ytrue - y_hat)**2)\n",
        "\n",
        "#initial setting \n",
        "min_sq = sq_0\n",
        "beta_lse = 0\n",
        "\n",
        "# for loop\n",
        "for b in np.linspace(0,1,1000):\n",
        "  beta = b\n",
        "  SIR_samp= spi.odeint(SIR, Input, t)\n",
        "  y_hat = SIR_samp[:,1]*N\n",
        "  sq = sum((ytrue - y_hat)**2)\n",
        "  if (sq < min_sq):\n",
        "    min_sq = sq_0\n",
        "    beta_lse = beta\n",
        "print('Beta hat : %.3f' %(beta_lse))\n",
        "print('R : %.3f' %(beta_lse*14))\n",
        "print('Minimum SS : %.3f' %(min_sq))"
      ],
      "execution_count": null,
      "outputs": [
        {
          "output_type": "stream",
          "text": [
            "Beta hat : 0.115\n",
            "R : 1.612\n",
            "Minimum SS : 1284715.284\n"
          ],
          "name": "stdout"
        }
      ]
    },
    {
      "cell_type": "code",
      "metadata": {
        "colab": {
          "base_uri": "https://localhost:8080/"
        },
        "id": "EeueldjpIPub",
        "outputId": "2787de7d-0c22-4967-b2a5-524f7667b87b"
      },
      "source": [
        "beta = 0.115\n",
        "t = np.arange(1, 30)\n",
        "SIR_= spi.odeint(SIR, Input, t)\n",
        "i_b0 = SIR_[:,1]*N\n",
        "i_b0"
      ],
      "execution_count": null,
      "outputs": [
        {
          "output_type": "execute_result",
          "data": {
            "text/plain": [
              "array([ 73.        ,  76.25386763,  79.65408647,  83.2032168 ,\n",
              "        86.91353272,  90.77106166,  94.83104635,  99.06219586,\n",
              "       103.47437664, 108.08349999, 112.89959473, 117.93217772,\n",
              "       123.19076582, 128.68487591, 134.42402484, 140.41772949,\n",
              "       146.67550671, 153.20687338, 160.02772714, 167.16127719,\n",
              "       174.62080629, 182.41936057, 190.56998617, 199.08572925,\n",
              "       207.97963595, 217.2647524 , 226.95412476, 237.06079916,\n",
              "       247.61564201])"
            ]
          },
          "metadata": {
            "tags": []
          },
          "execution_count": 120
        }
      ]
    },
    {
      "cell_type": "code",
      "metadata": {
        "id": "v9ZusLpBqN4m"
      },
      "source": [
        "0.173*14"
      ],
      "execution_count": null,
      "outputs": []
    },
    {
      "cell_type": "code",
      "metadata": {
        "id": "6YGMCE98K5og"
      },
      "source": [
        "beta_0 = 0.115\n",
        "beta_1 = beta_0*0.7\n",
        "beta_2 = beta_0*0.5\n",
        "beta_3 = beta_0*0.3"
      ],
      "execution_count": null,
      "outputs": []
    },
    {
      "cell_type": "code",
      "metadata": {
        "colab": {
          "base_uri": "https://localhost:8080/"
        },
        "id": "vYdxUmysRIiN",
        "outputId": "c4dc40d8-0474-4001-e776-a78a923eeafa"
      },
      "source": [
        "beta = beta_3\n",
        "t = np.arange(1, 30)\n",
        "SIR_= spi.odeint(SIR, Input, t)\n",
        "i_b0 = SIR_[:,1]*N\n",
        "i_b0"
      ],
      "execution_count": null,
      "outputs": [
        {
          "output_type": "execute_result",
          "data": {
            "text/plain": [
              "array([73.        , 70.35184319, 67.79895109, 65.34004366, 62.96898434,\n",
              "       60.69136802, 58.48450783, 56.3612542 , 54.31853095, 52.35327054,\n",
              "       50.46239649, 48.64283158, 46.89149857, 45.20532021, 43.58121928,\n",
              "       42.01611855, 40.50694076, 39.0506087 , 37.64404511, 36.28417278,\n",
              "       34.96932673, 33.70263038, 32.48280009, 31.30798968, 30.17635301,\n",
              "       29.0860439 , 28.0352162 , 27.02202374, 26.04462036])"
            ]
          },
          "metadata": {
            "tags": []
          },
          "execution_count": 124
        }
      ]
    }
  ]
}